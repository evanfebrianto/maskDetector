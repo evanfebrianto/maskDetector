{
 "cells": [
  {
   "cell_type": "code",
   "execution_count": 1,
   "id": "7314d62d-d919-4220-8d74-e242911a2546",
   "metadata": {},
   "outputs": [],
   "source": [
    "import random\n",
    "from os import listdir, makedirs, path\n",
    "from shutil import copy, rmtree\n",
    "from tqdm import tqdm\n",
    "from glob import glob\n",
    "from PIL import Image"
   ]
  },
  {
   "cell_type": "code",
   "execution_count": 2,
   "id": "e5218f78-5bf7-4568-9bb5-a19af8b29634",
   "metadata": {},
   "outputs": [],
   "source": [
    "DATASET_DIRECTORY = \"dataset\"\n",
    "OUTPUT_DIRECTORY = \"resized-sampled-dataset\"\n",
    "TRAIN_RATIO = 0.8 # range from 0 to 1\n",
    "SEED = 27\n",
    "NUM_SAMPLE = 10000 # -1 for all samples, > 0 for sampling data\n",
    "RESIZED_SHAPE = (256,256)"
   ]
  },
  {
   "cell_type": "code",
   "execution_count": 3,
   "id": "62b17fab-2c02-44cf-8ad6-e7994635ca28",
   "metadata": {},
   "outputs": [],
   "source": [
    "if path.exists(path.join(OUTPUT_DIRECTORY,'train')):\n",
    "    rmtree(path.join(OUTPUT_DIRECTORY,'train'))\n",
    "if path.exists(path.join(OUTPUT_DIRECTORY,'val')):\n",
    "    rmtree(path.join(OUTPUT_DIRECTORY,'val'))\n",
    "makedirs(path.join(OUTPUT_DIRECTORY,'train'))\n",
    "makedirs(path.join(OUTPUT_DIRECTORY,'val'))"
   ]
  },
  {
   "cell_type": "code",
   "execution_count": 4,
   "id": "4ff43ac4-26c1-4062-8cde-0a6e88dc4630",
   "metadata": {},
   "outputs": [
    {
     "name": "stdout",
     "output_type": "stream",
     "text": [
      "Processing: incorrect_mask\n"
     ]
    },
    {
     "name": "stderr",
     "output_type": "stream",
     "text": [
      "100%|█████████████████████████████████████████████████████████████████████████| 10000/10000 [06:55<00:00, 24.06it/s]\n"
     ]
    },
    {
     "name": "stdout",
     "output_type": "stream",
     "text": [
      "Processing: mask\n"
     ]
    },
    {
     "name": "stderr",
     "output_type": "stream",
     "text": [
      "100%|█████████████████████████████████████████████████████████████████████████| 10000/10000 [06:51<00:00, 24.31it/s]\n"
     ]
    },
    {
     "name": "stdout",
     "output_type": "stream",
     "text": [
      "Processing: no_mask\n"
     ]
    },
    {
     "name": "stderr",
     "output_type": "stream",
     "text": [
      "100%|█████████████████████████████████████████████████████████████████████████| 10000/10000 [13:58<00:00, 11.93it/s]\n"
     ]
    }
   ],
   "source": [
    "classes = listdir(DATASET_DIRECTORY)\n",
    "for _class in classes:\n",
    "    print('Processing: {}'.format(_class))\n",
    "    images = glob(path.join(DATASET_DIRECTORY,_class,'*','*'))\n",
    "    \n",
    "    if not path.exists(path.join(OUTPUT_DIRECTORY,'train',_class)):\n",
    "        makedirs(path.join(OUTPUT_DIRECTORY,'train',_class))\n",
    "    if not path.exists(path.join(OUTPUT_DIRECTORY,'val',_class)):\n",
    "        makedirs(path.join(OUTPUT_DIRECTORY,'val',_class))\n",
    "    \n",
    "    # randomize\n",
    "    random.seed(SEED)\n",
    "    random.shuffle(images)\n",
    "    if NUM_SAMPLE > 0:\n",
    "        images = images[:NUM_SAMPLE]\n",
    "    \n",
    "    # Copy files to the output directory\n",
    "    positive_sample = int(TRAIN_RATIO * len(images))\n",
    "    corrupt_files = []\n",
    "    for img in tqdm(images):\n",
    "        im_pil = Image.open(img)\n",
    "        imResize = im_pil.resize(RESIZED_SHAPE, Image.ANTIALIAS)\n",
    "        file_name = path.split(img)[1]\n",
    "        if img in images[:positive_sample]:\n",
    "            imResize.save(path.join(OUTPUT_DIRECTORY,'train',_class,file_name), 'JPEG', quality=90)\n",
    "        else:\n",
    "            imResize.save(path.join(OUTPUT_DIRECTORY,'val',_class,file_name), 'JPEG', quality=90)"
   ]
  },
  {
   "cell_type": "code",
   "execution_count": null,
   "id": "40c14cd4-ca45-4394-9341-729056d1ee93",
   "metadata": {},
   "outputs": [],
   "source": []
  }
 ],
 "metadata": {
  "kernelspec": {
   "display_name": "Python 3",
   "language": "python",
   "name": "python3"
  },
  "language_info": {
   "codemirror_mode": {
    "name": "ipython",
    "version": 3
   },
   "file_extension": ".py",
   "mimetype": "text/x-python",
   "name": "python",
   "nbconvert_exporter": "python",
   "pygments_lexer": "ipython3",
   "version": "3.8.5"
  }
 },
 "nbformat": 4,
 "nbformat_minor": 5
}
