{
 "cells": [
  {
   "cell_type": "code",
   "execution_count": 1,
   "id": "aeabdd9f-ecdd-4400-84fc-5704da5e7892",
   "metadata": {},
   "outputs": [],
   "source": [
    "import glob, os"
   ]
  },
  {
   "cell_type": "code",
   "execution_count": 2,
   "id": "148d883f-5ab0-403f-ab47-37b8ad31b0ee",
   "metadata": {},
   "outputs": [],
   "source": [
    "WEBCAM_DIR = 'webcam_dataset'"
   ]
  },
  {
   "cell_type": "code",
   "execution_count": null,
   "id": "8aec64c3-8703-4fd6-9b0d-3d341c5f585e",
   "metadata": {},
   "outputs": [],
   "source": []
  }
 ],
 "metadata": {
  "kernelspec": {
   "display_name": "Python 3 (ipykernel)",
   "language": "python",
   "name": "python3"
  },
  "language_info": {
   "codemirror_mode": {
    "name": "ipython",
    "version": 3
   },
   "file_extension": ".py",
   "mimetype": "text/x-python",
   "name": "python",
   "nbconvert_exporter": "python",
   "pygments_lexer": "ipython3",
   "version": "3.8.10"
  }
 },
 "nbformat": 4,
 "nbformat_minor": 5
}
