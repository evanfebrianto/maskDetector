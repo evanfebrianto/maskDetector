{
 "cells": [
  {
   "cell_type": "code",
   "execution_count": 1,
   "id": "23fbdcec-9696-4c51-b80e-a8872a1e12ea",
   "metadata": {},
   "outputs": [],
   "source": [
    "import random\n",
    "from os import listdir, makedirs, path\n",
    "from shutil import copy, rmtree\n",
    "from tqdm import tqdm\n",
    "from glob import glob\n",
    "from PIL import Image"
   ]
  },
  {
   "cell_type": "code",
   "execution_count": 2,
   "id": "148d883f-5ab0-403f-ab47-37b8ad31b0ee",
   "metadata": {},
   "outputs": [],
   "source": [
    "WEBCAM_DIR = \"webcam_dataset\"\n",
    "SAMPLED_DATASET = \"resized-sampled-dataset\"\n",
    "OUTPUT_DIRECTORY = \"dataset\"\n",
    "TRAIN_RATIO = 0.8 # range from 0 to 1\n",
    "SEED = 27\n",
    "NUM_SAMPLE = 3000 # -1 for all samples, > 0 for sampling data\n",
    "RESIZED_SHAPE = (64,64)\n",
    "classes = ['incorrect_mask', 'no_mask', 'mask']"
   ]
  },
  {
   "cell_type": "code",
   "execution_count": 3,
   "id": "8aec64c3-8703-4fd6-9b0d-3d341c5f585e",
   "metadata": {},
   "outputs": [],
   "source": [
    "if path.exists(path.join(OUTPUT_DIRECTORY,'train')):\n",
    "    rmtree(path.join(OUTPUT_DIRECTORY,'train'))\n",
    "if path.exists(path.join(OUTPUT_DIRECTORY,'val')):\n",
    "    rmtree(path.join(OUTPUT_DIRECTORY,'val'))\n",
    "makedirs(path.join(OUTPUT_DIRECTORY,'train'))\n",
    "makedirs(path.join(OUTPUT_DIRECTORY,'val'))"
   ]
  },
  {
   "cell_type": "markdown",
   "id": "2f3e9e58-e19a-45f2-9e55-ca9811137372",
   "metadata": {},
   "source": [
    "## Processing Webcam Dataset"
   ]
  },
  {
   "cell_type": "code",
   "execution_count": 4,
   "id": "3f4bfb3e-9ee3-4d0b-9573-fa825f73e48d",
   "metadata": {},
   "outputs": [
    {
     "output_type": "stream",
     "name": "stdout",
     "text": [
      "Processing: incorrect_mask\n",
      "100%|██████████| 2008/2008 [00:02<00:00, 893.77it/s]\n",
      "Processing: no_mask\n",
      "100%|██████████| 2033/2033 [00:02<00:00, 945.08it/s]\n",
      "Processing: mask\n",
      "100%|██████████| 1940/1940 [00:02<00:00, 932.02it/s]\n"
     ]
    }
   ],
   "source": [
    "for _class in classes:\n",
    "    print('Processing: {}'.format(_class))\n",
    "    images = glob(path.join(WEBCAM_DIR,_class,'*'))\n",
    "    \n",
    "    if not path.exists(path.join(OUTPUT_DIRECTORY,'train',_class)):\n",
    "        makedirs(path.join(OUTPUT_DIRECTORY,'train',_class))\n",
    "    if not path.exists(path.join(OUTPUT_DIRECTORY,'val',_class)):\n",
    "        makedirs(path.join(OUTPUT_DIRECTORY,'val',_class))\n",
    "    \n",
    "    # randomize\n",
    "    random.seed(SEED)\n",
    "    random.shuffle(images)\n",
    "    if NUM_SAMPLE > 0:\n",
    "        images = images[:NUM_SAMPLE]\n",
    "    \n",
    "    # Copy files to the output directory\n",
    "    positive_sample = int(TRAIN_RATIO * len(images))\n",
    "    corrupt_files = []\n",
    "    for img in tqdm(images):\n",
    "        im_pil = Image.open(img)\n",
    "        imResize = im_pil.resize(RESIZED_SHAPE, Image.ANTIALIAS)\n",
    "        file_name = path.split(img)[1]\n",
    "        if img in images[:positive_sample]:\n",
    "            imResize.save(path.join(OUTPUT_DIRECTORY,'train',_class,file_name), 'JPEG', quality=90)\n",
    "        else:\n",
    "            imResize.save(path.join(OUTPUT_DIRECTORY,'val',_class,file_name), 'JPEG', quality=90)"
   ]
  },
  {
   "cell_type": "markdown",
   "id": "a799cfe8-89fe-4666-a929-6f307ebf562c",
   "metadata": {},
   "source": [
    "## Processing Public Dataset"
   ]
  },
  {
   "cell_type": "code",
   "execution_count": 5,
   "id": "f6a4cde5-3989-44b4-b8d6-2fbd3666fe17",
   "metadata": {},
   "outputs": [
    {
     "output_type": "stream",
     "name": "stdout",
     "text": [
      "Processing: incorrect_mask\n",
      "100%|██████████| 3000/3000 [00:06<00:00, 496.17it/s]\n",
      "Processing: no_mask\n",
      "100%|██████████| 3000/3000 [00:05<00:00, 509.24it/s]\n",
      "Processing: mask\n",
      "100%|██████████| 3000/3000 [00:06<00:00, 491.13it/s]\n"
     ]
    }
   ],
   "source": [
    "for _class in classes:\n",
    "    print('Processing: {}'.format(_class))\n",
    "    images_train = glob(path.join(SAMPLED_DATASET,'train',_class,'*'))\n",
    "    images_val = glob(path.join(SAMPLED_DATASET,'val',_class,'*'))\n",
    "    images = images_train + images_val\n",
    "    \n",
    "    if not path.exists(path.join(OUTPUT_DIRECTORY,'train',_class)):\n",
    "        makedirs(path.join(OUTPUT_DIRECTORY,'train',_class))\n",
    "    if not path.exists(path.join(OUTPUT_DIRECTORY,'val',_class)):\n",
    "        makedirs(path.join(OUTPUT_DIRECTORY,'val',_class))\n",
    "    \n",
    "    # randomize\n",
    "    random.seed(SEED)\n",
    "    random.shuffle(images)\n",
    "    if NUM_SAMPLE > 0:\n",
    "        images = images[:NUM_SAMPLE]\n",
    "    \n",
    "    # Copy files to the output directory\n",
    "    positive_sample = int(TRAIN_RATIO * len(images))\n",
    "    corrupt_files = []\n",
    "    for img in tqdm(images):\n",
    "        im_pil = Image.open(img)\n",
    "        imResize = im_pil.resize(RESIZED_SHAPE, Image.ANTIALIAS)\n",
    "        file_name = path.split(img)[1]\n",
    "        if img in images[:positive_sample]:\n",
    "            imResize.save(path.join(OUTPUT_DIRECTORY,'train',_class,file_name), 'JPEG', quality=90)\n",
    "        else:\n",
    "            imResize.save(path.join(OUTPUT_DIRECTORY,'val',_class,file_name), 'JPEG', quality=90)"
   ]
  },
  {
   "cell_type": "markdown",
   "id": "b27fd4c4-a5a5-4e70-b8c4-c352f8d26d24",
   "metadata": {},
   "source": [
    "## Get mean std"
   ]
  },
  {
   "cell_type": "code",
   "execution_count": 6,
   "id": "56452283-ef86-4703-aa1b-8d3564d83df3",
   "metadata": {},
   "outputs": [
    {
     "output_type": "stream",
     "name": "stdout",
     "text": [
      "mean: [0.5222726, 0.47567078, 0.45639008]\tstd: [0.25154158, 0.2507586, 0.25566745]\n"
     ]
    }
   ],
   "source": [
    "import torch\n",
    "from torchvision.datasets import ImageFolder\n",
    "from torch.utils.data import DataLoader\n",
    "import torchvision.transforms as transforms\n",
    "import numpy as np\n",
    "\n",
    "train_set = ImageFolder(root=OUTPUT_DIRECTORY, transform=transforms.ToTensor())\n",
    "\n",
    "data = torch.cat([d[0] for d in DataLoader(train_set)])\n",
    "mean, std = data.mean(dim=[0, 2, 3]), data.std(dim=[0, 2, 3])\n",
    "print('mean: {}\\tstd: {}'.format(list(np.array(mean)),list(np.array(std))))"
   ]
  },
  {
   "source": [
    "### Save mean std to config.ini"
   ],
   "cell_type": "markdown",
   "metadata": {}
  },
  {
   "cell_type": "code",
   "execution_count": 10,
   "metadata": {},
   "outputs": [],
   "source": [
    "import configparser\n",
    "\n",
    "filename = 'config.ini'\n",
    "\n",
    "config = configparser.ConfigParser()\n",
    "config.read(filename)\n",
    "config.set('LIST','MEAN',str(list(np.array(mean))))\n",
    "config.set('LIST','STD',str(list(np.array(std))))\n",
    "\n",
    "with open(filename, 'w') as configfile:\n",
    "    config.write(configfile)"
   ]
  },
  {
   "cell_type": "code",
   "execution_count": null,
   "metadata": {},
   "outputs": [],
   "source": []
  }
 ],
 "metadata": {
  "kernelspec": {
   "name": "python3",
   "display_name": "Python 3.8.10 64-bit ('maskDetector': conda)"
  },
  "language_info": {
   "codemirror_mode": {
    "name": "ipython",
    "version": 3
   },
   "file_extension": ".py",
   "mimetype": "text/x-python",
   "name": "python",
   "nbconvert_exporter": "python",
   "pygments_lexer": "ipython3",
   "version": "3.8.10"
  },
  "interpreter": {
   "hash": "a5f2c4559aba917007c3a45fb73c22b6b1f17a88819eaaabf1406a435b62f098"
  }
 },
 "nbformat": 4,
 "nbformat_minor": 5
}